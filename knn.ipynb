{
 "cells": [
  {
   "cell_type": "markdown",
   "metadata": {},
   "source": [
    "## About\n",
    "\n",
    "In this notebook we prepare a simple solution for the [kaggle challenge on higgs.](https://inclass.kaggle.com/c/mlhep-2016-higgs-detection)"
   ]
  },
  {
   "cell_type": "code",
   "execution_count": 74,
   "metadata": {
    "collapsed": true
   },
   "outputs": [],
   "source": [
    "%matplotlib inline"
   ]
  },
  {
   "cell_type": "code",
   "execution_count": 75,
   "metadata": {
    "collapsed": true
   },
   "outputs": [],
   "source": [
    "import matplotlib.pyplot as plt\n",
    "\n",
    "import pandas\n",
    "import numpy\n",
    "\n",
    "from sklearn.cross_validation import train_test_split\n",
    "from sklearn.metrics import roc_auc_score"
   ]
  },
  {
   "cell_type": "markdown",
   "metadata": {},
   "source": [
    "### Download data"
   ]
  },
  {
   "cell_type": "code",
   "execution_count": 76,
   "metadata": {
    "collapsed": false
   },
   "outputs": [
    {
     "name": "stdout",
     "output_type": "stream",
     "text": [
      "wget: /root/miniconda/envs/rep_py2/lib/libcrypto.so.1.0.0: no version information available (required by wget)\r\n",
      "wget: /root/miniconda/envs/rep_py2/lib/libssl.so.1.0.0: no version information available (required by wget)\r\n",
      "File `public_train_10000.root' already there; not retrieving.\r\n"
     ]
    }
   ],
   "source": [
    "!cd datasets; wget -O public_train_10000.root -nc --no-check-certificate https://2016.mlhep.yandex.net/data/higgs/public_train_10000.root"
   ]
  },
  {
   "cell_type": "code",
   "execution_count": 77,
   "metadata": {
    "collapsed": false
   },
   "outputs": [
    {
     "name": "stdout",
     "output_type": "stream",
     "text": [
      "wget: /root/miniconda/envs/rep_py2/lib/libcrypto.so.1.0.0: no version information available (required by wget)\r\n",
      "wget: /root/miniconda/envs/rep_py2/lib/libssl.so.1.0.0: no version information available (required by wget)\r\n",
      "File `public_train_100000.root' already there; not retrieving.\r\n"
     ]
    }
   ],
   "source": [
    "!cd datasets; wget -O public_train_100000.root -nc --no-check-certificate https://2016.mlhep.yandex.net/data/higgs/public_train_100000.root"
   ]
  },
  {
   "cell_type": "code",
   "execution_count": 78,
   "metadata": {
    "collapsed": true
   },
   "outputs": [],
   "source": [
    "# you can download training sample with 100000 available events\n",
    "# uncomment the below row\n",
    "# !cd datasets; wget -O public_train_100000.root -nc --no-check-certificate https://2016.mlhep.yandex.net/data/higgs/public_train_100000.root"
   ]
  },
  {
   "cell_type": "code",
   "execution_count": 79,
   "metadata": {
    "collapsed": false
   },
   "outputs": [
    {
     "name": "stdout",
     "output_type": "stream",
     "text": [
      "wget: /root/miniconda/envs/rep_py2/lib/libcrypto.so.1.0.0: no version information available (required by wget)\r\n",
      "wget: /root/miniconda/envs/rep_py2/lib/libssl.so.1.0.0: no version information available (required by wget)\r\n",
      "File `public_test.root' already there; not retrieving.\r\n"
     ]
    }
   ],
   "source": [
    "!cd datasets; wget -O public_test.root -nc --no-check-certificate https://2016.mlhep.yandex.net/data/higgs/public_test.root"
   ]
  },
  {
   "cell_type": "markdown",
   "metadata": {},
   "source": [
    "### Read the smallest part of training file and test file"
   ]
  },
  {
   "cell_type": "code",
   "execution_count": 80,
   "metadata": {
    "collapsed": false
   },
   "outputs": [],
   "source": [
    "import root_numpy\n",
    "data = pandas.DataFrame(root_numpy.root2array('datasets/public_train_10000.root'))\n",
    "data1 = pandas.DataFrame(root_numpy.root2array('datasets/public_train_100000.root'))\n",
    "test = pandas.DataFrame(root_numpy.root2array('datasets/public_test.root'))"
   ]
  },
  {
   "cell_type": "code",
   "execution_count": 81,
   "metadata": {
    "collapsed": false,
    "scrolled": true
   },
   "outputs": [
    {
     "data": {
      "text/plain": [
       "(10000, 30)"
      ]
     },
     "execution_count": 81,
     "metadata": {},
     "output_type": "execute_result"
    }
   ],
   "source": [
    "data.head()\n",
    "data.shape\n",
    "#pandas.options.display.max_columns = 40\n",
    "#print data[1:3]\n",
    "#print data1[1:3]"
   ]
  },
  {
   "cell_type": "markdown",
   "metadata": {},
   "source": [
    "### Divide training data into 2 parts \n",
    "`train_test_split` function is used to divide into 2 parts to preserve quality overestimating.\n"
   ]
  },
  {
   "cell_type": "code",
   "execution_count": 82,
   "metadata": {
    "collapsed": false
   },
   "outputs": [
    {
     "data": {
      "text/html": [
       "<div>\n",
       "<table border=\"1\" class=\"dataframe\">\n",
       "  <thead>\n",
       "    <tr style=\"text-align: right;\">\n",
       "      <th></th>\n",
       "      <th>event_id</th>\n",
       "      <th>lepton_pt</th>\n",
       "      <th>lepton_eta</th>\n",
       "      <th>lepton_phi</th>\n",
       "      <th>mem_pt</th>\n",
       "      <th>mem_phi</th>\n",
       "      <th>jet1_pt</th>\n",
       "      <th>jet1_eta</th>\n",
       "      <th>jet1_phi</th>\n",
       "      <th>jet1_btag</th>\n",
       "      <th>jet2_pt</th>\n",
       "      <th>jet2_eta</th>\n",
       "      <th>jet2_phi</th>\n",
       "      <th>jet2_btag</th>\n",
       "      <th>jet3_pt</th>\n",
       "      <th>jet3_eta</th>\n",
       "      <th>jet3_phi</th>\n",
       "      <th>jet3_btag</th>\n",
       "      <th>jet4_pt</th>\n",
       "      <th>jet4_eta</th>\n",
       "      <th>jet4_phi</th>\n",
       "      <th>jet4_btag</th>\n",
       "      <th>m_jj</th>\n",
       "      <th>m_jjj</th>\n",
       "      <th>m_lv</th>\n",
       "      <th>m_jlv</th>\n",
       "      <th>m_bb</th>\n",
       "      <th>m_wbb</th>\n",
       "      <th>m_wwbb</th>\n",
       "    </tr>\n",
       "  </thead>\n",
       "  <tbody>\n",
       "    <tr>\n",
       "      <th>0</th>\n",
       "      <td>1</td>\n",
       "      <td>58.814354</td>\n",
       "      <td>-1.223199</td>\n",
       "      <td>1.290717</td>\n",
       "      <td>26.435696</td>\n",
       "      <td>2.608772</td>\n",
       "      <td>68.413330</td>\n",
       "      <td>0.639561</td>\n",
       "      <td>-1.226549</td>\n",
       "      <td>1.000008</td>\n",
       "      <td>28.192644</td>\n",
       "      <td>1.319475</td>\n",
       "      <td>2.704676</td>\n",
       "      <td>0.000000</td>\n",
       "      <td>90.252411</td>\n",
       "      <td>-0.443325</td>\n",
       "      <td>-0.734594</td>\n",
       "      <td>1.999937</td>\n",
       "      <td>35.200653</td>\n",
       "      <td>-1.195189</td>\n",
       "      <td>1.767687</td>\n",
       "      <td>0.000000</td>\n",
       "      <td>72.190338</td>\n",
       "      <td>170.810608</td>\n",
       "      <td>78.644196</td>\n",
       "      <td>224.813538</td>\n",
       "      <td>95.737434</td>\n",
       "      <td>372.835388</td>\n",
       "      <td>469.654236</td>\n",
       "    </tr>\n",
       "    <tr>\n",
       "      <th>1</th>\n",
       "      <td>2</td>\n",
       "      <td>21.390781</td>\n",
       "      <td>-0.468277</td>\n",
       "      <td>-1.371404</td>\n",
       "      <td>57.185963</td>\n",
       "      <td>1.214130</td>\n",
       "      <td>118.127953</td>\n",
       "      <td>-0.113784</td>\n",
       "      <td>-2.182008</td>\n",
       "      <td>0.000000</td>\n",
       "      <td>107.238831</td>\n",
       "      <td>-1.082186</td>\n",
       "      <td>0.232456</td>\n",
       "      <td>2.000016</td>\n",
       "      <td>68.670891</td>\n",
       "      <td>0.110876</td>\n",
       "      <td>2.863325</td>\n",
       "      <td>0.000000</td>\n",
       "      <td>40.473949</td>\n",
       "      <td>0.965376</td>\n",
       "      <td>2.698023</td>\n",
       "      <td>1.000000</td>\n",
       "      <td>62.736309</td>\n",
       "      <td>215.426300</td>\n",
       "      <td>73.971413</td>\n",
       "      <td>211.729141</td>\n",
       "      <td>195.910385</td>\n",
       "      <td>310.480103</td>\n",
       "      <td>431.597137</td>\n",
       "    </tr>\n",
       "    <tr>\n",
       "      <th>2</th>\n",
       "      <td>3</td>\n",
       "      <td>58.570217</td>\n",
       "      <td>1.443092</td>\n",
       "      <td>0.105191</td>\n",
       "      <td>54.450954</td>\n",
       "      <td>-2.354347</td>\n",
       "      <td>26.443583</td>\n",
       "      <td>-1.911658</td>\n",
       "      <td>1.337635</td>\n",
       "      <td>0.000000</td>\n",
       "      <td>154.289459</td>\n",
       "      <td>-1.142575</td>\n",
       "      <td>-2.166013</td>\n",
       "      <td>0.999969</td>\n",
       "      <td>139.899277</td>\n",
       "      <td>0.307173</td>\n",
       "      <td>1.089414</td>\n",
       "      <td>2.000016</td>\n",
       "      <td>24.017288</td>\n",
       "      <td>-2.212247</td>\n",
       "      <td>-2.609508</td>\n",
       "      <td>0.000000</td>\n",
       "      <td>48.172768</td>\n",
       "      <td>163.506821</td>\n",
       "      <td>106.111038</td>\n",
       "      <td>260.643646</td>\n",
       "      <td>351.328644</td>\n",
       "      <td>638.053040</td>\n",
       "      <td>790.960815</td>\n",
       "    </tr>\n",
       "    <tr>\n",
       "      <th>3</th>\n",
       "      <td>4</td>\n",
       "      <td>70.469345</td>\n",
       "      <td>0.166176</td>\n",
       "      <td>-1.962429</td>\n",
       "      <td>38.138966</td>\n",
       "      <td>2.564890</td>\n",
       "      <td>42.678413</td>\n",
       "      <td>-1.256608</td>\n",
       "      <td>-0.276156</td>\n",
       "      <td>2.000000</td>\n",
       "      <td>42.376274</td>\n",
       "      <td>0.249604</td>\n",
       "      <td>-0.689569</td>\n",
       "      <td>0.000000</td>\n",
       "      <td>61.597656</td>\n",
       "      <td>-0.904709</td>\n",
       "      <td>1.914711</td>\n",
       "      <td>0.000000</td>\n",
       "      <td>37.422001</td>\n",
       "      <td>-0.007441</td>\n",
       "      <td>3.048725</td>\n",
       "      <td>2.000023</td>\n",
       "      <td>99.099815</td>\n",
       "      <td>158.532227</td>\n",
       "      <td>79.701500</td>\n",
       "      <td>169.550491</td>\n",
       "      <td>96.056900</td>\n",
       "      <td>305.073212</td>\n",
       "      <td>402.656067</td>\n",
       "    </tr>\n",
       "    <tr>\n",
       "      <th>4</th>\n",
       "      <td>5</td>\n",
       "      <td>113.456779</td>\n",
       "      <td>0.232503</td>\n",
       "      <td>2.941150</td>\n",
       "      <td>64.401146</td>\n",
       "      <td>1.125812</td>\n",
       "      <td>164.289139</td>\n",
       "      <td>-0.735258</td>\n",
       "      <td>-0.590741</td>\n",
       "      <td>1.999937</td>\n",
       "      <td>48.857182</td>\n",
       "      <td>-0.814078</td>\n",
       "      <td>3.020974</td>\n",
       "      <td>0.000000</td>\n",
       "      <td>32.992023</td>\n",
       "      <td>-0.362528</td>\n",
       "      <td>-2.159055</td>\n",
       "      <td>0.000000</td>\n",
       "      <td>37.717247</td>\n",
       "      <td>-0.943712</td>\n",
       "      <td>1.599526</td>\n",
       "      <td>2.000023</td>\n",
       "      <td>50.816051</td>\n",
       "      <td>200.099945</td>\n",
       "      <td>130.013855</td>\n",
       "      <td>187.637009</td>\n",
       "      <td>142.145920</td>\n",
       "      <td>433.032440</td>\n",
       "      <td>507.496399</td>\n",
       "    </tr>\n",
       "  </tbody>\n",
       "</table>\n",
       "</div>"
      ],
      "text/plain": [
       "   event_id   lepton_pt  lepton_eta  lepton_phi     mem_pt   mem_phi  \\\n",
       "0         1   58.814354   -1.223199    1.290717  26.435696  2.608772   \n",
       "1         2   21.390781   -0.468277   -1.371404  57.185963  1.214130   \n",
       "2         3   58.570217    1.443092    0.105191  54.450954 -2.354347   \n",
       "3         4   70.469345    0.166176   -1.962429  38.138966  2.564890   \n",
       "4         5  113.456779    0.232503    2.941150  64.401146  1.125812   \n",
       "\n",
       "      jet1_pt  jet1_eta  jet1_phi  jet1_btag     jet2_pt  jet2_eta  jet2_phi  \\\n",
       "0   68.413330  0.639561 -1.226549   1.000008   28.192644  1.319475  2.704676   \n",
       "1  118.127953 -0.113784 -2.182008   0.000000  107.238831 -1.082186  0.232456   \n",
       "2   26.443583 -1.911658  1.337635   0.000000  154.289459 -1.142575 -2.166013   \n",
       "3   42.678413 -1.256608 -0.276156   2.000000   42.376274  0.249604 -0.689569   \n",
       "4  164.289139 -0.735258 -0.590741   1.999937   48.857182 -0.814078  3.020974   \n",
       "\n",
       "   jet2_btag     jet3_pt  jet3_eta  jet3_phi  jet3_btag    jet4_pt  jet4_eta  \\\n",
       "0   0.000000   90.252411 -0.443325 -0.734594   1.999937  35.200653 -1.195189   \n",
       "1   2.000016   68.670891  0.110876  2.863325   0.000000  40.473949  0.965376   \n",
       "2   0.999969  139.899277  0.307173  1.089414   2.000016  24.017288 -2.212247   \n",
       "3   0.000000   61.597656 -0.904709  1.914711   0.000000  37.422001 -0.007441   \n",
       "4   0.000000   32.992023 -0.362528 -2.159055   0.000000  37.717247 -0.943712   \n",
       "\n",
       "   jet4_phi  jet4_btag       m_jj       m_jjj        m_lv       m_jlv  \\\n",
       "0  1.767687   0.000000  72.190338  170.810608   78.644196  224.813538   \n",
       "1  2.698023   1.000000  62.736309  215.426300   73.971413  211.729141   \n",
       "2 -2.609508   0.000000  48.172768  163.506821  106.111038  260.643646   \n",
       "3  3.048725   2.000023  99.099815  158.532227   79.701500  169.550491   \n",
       "4  1.599526   2.000023  50.816051  200.099945  130.013855  187.637009   \n",
       "\n",
       "         m_bb       m_wbb      m_wwbb  \n",
       "0   95.737434  372.835388  469.654236  \n",
       "1  195.910385  310.480103  431.597137  \n",
       "2  351.328644  638.053040  790.960815  \n",
       "3   96.056900  305.073212  402.656067  \n",
       "4  142.145920  433.032440  507.496399  "
      ]
     },
     "execution_count": 82,
     "metadata": {},
     "output_type": "execute_result"
    }
   ],
   "source": [
    "test.head()"
   ]
  },
  {
   "cell_type": "markdown",
   "metadata": {},
   "source": [
    "### Define training features\n",
    "\n",
    "Exclude `event_id`, `target` from the features set"
   ]
  },
  {
   "cell_type": "code",
   "execution_count": 83,
   "metadata": {
    "collapsed": false
   },
   "outputs": [
    {
     "data": {
      "text/plain": [
       "Index([u'event_id', u'target', u'lepton_pt', u'lepton_eta', u'lepton_phi',\n",
       "       u'mem_pt', u'mem_phi', u'jet1_pt', u'jet1_eta', u'jet1_phi',\n",
       "       u'jet1_btag', u'jet2_pt', u'jet2_eta', u'jet2_phi', u'jet2_btag',\n",
       "       u'jet3_pt', u'jet3_eta', u'jet3_phi', u'jet3_btag', u'jet4_pt',\n",
       "       u'jet4_eta', u'jet4_phi', u'jet4_btag', u'm_jj', u'm_jjj', u'm_lv',\n",
       "       u'm_jlv', u'm_bb', u'm_wbb', u'm_wwbb'],\n",
       "      dtype='object')"
      ]
     },
     "execution_count": 83,
     "metadata": {},
     "output_type": "execute_result"
    }
   ],
   "source": [
    "#features = list(set(data.columns) - {'event_id', 'target'})\n",
    "#features = list(set(data.columns))\n",
    "features = data.columns\n",
    "features"
   ]
  },
  {
   "cell_type": "code",
   "execution_count": 84,
   "metadata": {
    "collapsed": true
   },
   "outputs": [],
   "source": [
    "header = ['jet3_pt','jet3_eta','m_jjj','mem_phi','jet1_pt','jet4_phi','jet1_phi','jet2_eta','jet3_btag','m_jlv','m_wbb','jet4_pt','jet4_btag','jet2_pt','jet1_btag','m_jj','m_wwbb','jet2_phi','lepton_phi','m_bb','m_lv','jet4_eta','jet2_btag','lepton_pt','mem_pt','lepton_eta','jet3_phi','jet1_eta']"
   ]
  },
  {
   "cell_type": "markdown",
   "metadata": {},
   "source": [
    "### Prepare high-level features for training"
   ]
  },
  {
   "cell_type": "code",
   "execution_count": 85,
   "metadata": {
    "collapsed": false
   },
   "outputs": [],
   "source": [
    "high_level_features = ['m_jj', 'm_jjj', 'm_jlv', 'm_wwbb', 'm_bb', 'm_wbb', 'm_lv']"
   ]
  },
  {
   "cell_type": "markdown",
   "metadata": {},
   "source": [
    "### Plot histograms for each high-level feature"
   ]
  },
  {
   "cell_type": "code",
   "execution_count": 86,
   "metadata": {
    "collapsed": false
   },
   "outputs": [
    {
     "data": {
      "image/png": "[encoded data removed]",
      "text/plain": [
       "<matplotlib.figure.Figure at 0x7fbd981fe5d0>"
      ]
     },
     "metadata": {},
     "output_type": "display_data"
    }
   ],
   "source": [
    "hist_params = {'normed': True, 'bins': 60, 'alpha': 0.4}\n",
    "# create the figure\n",
    "plt.figure(figsize=(16, 25))\n",
    "for n, feature in enumerate(high_level_features):\n",
    "    # add sub plot on our figure\n",
    "    plt.subplot(len(features) // 5 + 1, 3, n+1)\n",
    "    # define range for histograms by cutting 1% of data from both ends\n",
    "    min_value, max_value = numpy.percentile(data[feature], [1, 99])\n",
    "    plt.hist(data.ix[data.target.values == 0, feature].values, range=(min_value, max_value), \n",
    "             label='class 0', **hist_params)\n",
    "    plt.hist(data.ix[data.target.values == 1, feature].values, range=(min_value, max_value), \n",
    "             label='class 1', **hist_params)\n",
    "    plt.legend(loc='best')\n",
    "    #plt.legend()\n",
    "    plt.title(feature)"
   ]
  },
  {
   "cell_type": "markdown",
   "metadata": {},
   "source": [
    "### Divide training data into 2 parts \n",
    "`train_test_split` function is used to divide into 2 parts to preserve quality overestimating.\n"
   ]
  },
  {
   "cell_type": "code",
   "execution_count": 87,
   "metadata": {
    "collapsed": false
   },
   "outputs": [],
   "source": [
    "training_data, validation_data = train_test_split(data, random_state=11, train_size=0.66)"
   ]
  },
  {
   "cell_type": "markdown",
   "metadata": {},
   "source": [
    "### Simple knn from `sklearn` training"
   ]
  },
  {
   "cell_type": "markdown",
   "metadata": {
    "collapsed": false
   },
   "source": [
    "# from sklearn.neighbors import KNeighborsClassifier\n",
    "#knn = KNeighborsClassifier(n_neighbors=6)\n",
    "knn = KNeighborsClassifier(n_neighbors=8)\n",
    "knn.fit(training_data[high_level_features], training_data.target)"
   ]
  },
  {
   "cell_type": "code",
   "execution_count": 88,
   "metadata": {
    "collapsed": false
   },
   "outputs": [
    {
     "data": {
      "text/plain": [
       "0.72059171991203608"
      ]
     },
     "execution_count": 88,
     "metadata": {},
     "output_type": "execute_result"
    }
   ],
   "source": [
    "#added by John\n",
    "# predict validation sample (probability for each event)\n",
    "proba = knn.predict_proba(validation_data[high_level_features])\n",
    "# take probability to be 1 class to compute ROC AUC\n",
    "roc_auc_score(validation_data.target, proba[:, 1])\n",
    "#added end"
   ]
  },
  {
   "cell_type": "code",
   "execution_count": 89,
   "metadata": {
    "collapsed": false
   },
   "outputs": [],
   "source": [
    "# predict validation sample (probability for each event)\n",
    "proba = knn.predict_proba(validation_data[high_level_features])"
   ]
  },
  {
   "cell_type": "code",
   "execution_count": 90,
   "metadata": {
    "collapsed": false
   },
   "outputs": [
    {
     "data": {
      "text/plain": [
       "array([[ 0.375,  0.625],\n",
       "       [ 0.375,  0.625],\n",
       "       [ 0.875,  0.125],\n",
       "       ..., \n",
       "       [ 0.75 ,  0.25 ],\n",
       "       [ 0.625,  0.375],\n",
       "       [ 0.75 ,  0.25 ]])"
      ]
     },
     "execution_count": 90,
     "metadata": {},
     "output_type": "execute_result"
    }
   ],
   "source": [
    "proba"
   ]
  },
  {
   "cell_type": "markdown",
   "metadata": {},
   "source": [
    "### Compute quality (ROC AUC) on the validation set (to prevent overestimating quality)"
   ]
  },
  {
   "cell_type": "code",
   "execution_count": 91,
   "metadata": {
    "collapsed": false
   },
   "outputs": [
    {
     "data": {
      "text/plain": [
       "0.72059171991203608"
      ]
     },
     "execution_count": 91,
     "metadata": {},
     "output_type": "execute_result"
    }
   ],
   "source": [
    "# take probability to be 1 class to compute ROC AUC\n",
    "roc_auc_score(validation_data.target, proba[:, 1])"
   ]
  },
  {
   "cell_type": "markdown",
   "metadata": {},
   "source": [
    "## Prepare submission to kaggle"
   ]
  },
  {
   "cell_type": "code",
   "execution_count": 92,
   "metadata": {
    "collapsed": false
   },
   "outputs": [],
   "source": [
    "# predict test sample\n",
    "kaggle_proba = knn.predict_proba(test[high_level_features])[:, 1]\n",
    "kaggle_ids = test.event_id"
   ]
  },
  {
   "cell_type": "code",
   "execution_count": 93,
   "metadata": {
    "collapsed": false
   },
   "outputs": [
    {
     "data": {
      "text/html": [
       "<a href='datasets/baseline.csv' target='_blank'>datasets/baseline.csv</a><br>"
      ],
      "text/plain": [
       "/notebooks/higgs_kaggle/datasets/baseline.csv"
      ]
     },
     "execution_count": 93,
     "metadata": {},
     "output_type": "execute_result"
    }
   ],
   "source": [
    "from IPython.display import FileLink\n",
    "def create_solution(ids, proba, filename='baseline.csv'):\n",
    "    \"\"\"saves predictions to file and provides a link for downloading \"\"\"\n",
    "    pandas.DataFrame({'event_id': ids, 'prediction': proba}).to_csv('datasets/{}'.format(filename), index=False)\n",
    "    return FileLink('datasets/{}'.format(filename))\n",
    "    \n",
    "create_solution(kaggle_ids, kaggle_proba)"
   ]
  },
  {
   "cell_type": "code",
   "execution_count": null,
   "metadata": {
    "collapsed": true
   },
   "outputs": [],
   "source": []
  }
 ],
 "metadata": {
  "kernelspec": {
   "display_name": "Python 2",
   "language": "python",
   "name": "python2"
  },
  "language_info": {
   "codemirror_mode": {
    "name": "ipython",
    "version": 2
   },
   "file_extension": ".py",
   "mimetype": "text/x-python",
   "name": "python",
   "nbconvert_exporter": "python",
   "pygments_lexer": "ipython2",
   "version": "2.7.11"
  }
 },
 "nbformat": 4,
 "nbformat_minor": 0
}
